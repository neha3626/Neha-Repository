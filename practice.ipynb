{
 "cells": [
  {
   "cell_type": "markdown",
   "id": "d2c3566f",
   "metadata": {},
   "source": [
    "# Python Operators"
   ]
  },
  {
   "cell_type": "code",
   "execution_count": 1,
   "id": "14956fbb",
   "metadata": {},
   "outputs": [
    {
     "data": {
      "text/plain": [
       "4"
      ]
     },
     "execution_count": 1,
     "metadata": {},
     "output_type": "execute_result"
    }
   ],
   "source": [
    "2+2 add"
   ]
  },
  {
   "cell_type": "code",
   "execution_count": 2,
   "id": "3dd652e0",
   "metadata": {},
   "outputs": [
    {
     "data": {
      "text/plain": [
       "4"
      ]
     },
     "execution_count": 2,
     "metadata": {},
     "output_type": "execute_result"
    }
   ],
   "source": [
    "2*2 multiply"
   ]
  },
  {
   "cell_type": "code",
   "execution_count": 3,
   "id": "1b4a84b8",
   "metadata": {},
   "outputs": [
    {
     "data": {
      "text/plain": [
       "1.0"
      ]
     },
     "execution_count": 3,
     "metadata": {},
     "output_type": "execute_result"
    }
   ],
   "source": [
    "2/2  divide"
   ]
  },
  {
   "cell_type": "code",
   "execution_count": 4,
   "id": "8156e8ce",
   "metadata": {},
   "outputs": [
    {
     "data": {
      "text/plain": [
       "1"
      ]
     },
     "execution_count": 4,
     "metadata": {},
     "output_type": "execute_result"
    }
   ],
   "source": [
    "2//2 floor division"
   ]
  },
  {
   "cell_type": "code",
   "execution_count": 5,
   "id": "8bcfcfd2",
   "metadata": {},
   "outputs": [
    {
     "data": {
      "text/plain": [
       "4"
      ]
     },
     "execution_count": 5,
     "metadata": {},
     "output_type": "execute_result"
    }
   ],
   "source": [
    "2**2 square"
   ]
  },
  {
   "cell_type": "code",
   "execution_count": 6,
   "id": "8140b85e",
   "metadata": {},
   "outputs": [
    {
     "data": {
      "text/plain": [
       "0"
      ]
     },
     "execution_count": 6,
     "metadata": {},
     "output_type": "execute_result"
    }
   ],
   "source": [
    "2%2 modulus operators"
   ]
  },
  {
   "cell_type": "code",
   "execution_count": 7,
   "id": "5238250f",
   "metadata": {},
   "outputs": [
    {
     "data": {
      "text/plain": [
       "0"
      ]
     },
     "execution_count": 7,
     "metadata": {},
     "output_type": "execute_result"
    }
   ],
   "source": [
    "2-2 subtraction"
   ]
  },
  {
   "cell_type": "markdown",
   "id": "2d4e4179",
   "metadata": {},
   "source": [
    "Variabale is container which will be holding certai nvalue"
   ]
  },
  {
   "cell_type": "code",
   "execution_count": 8,
   "id": "337f776c",
   "metadata": {},
   "outputs": [],
   "source": [
    "a=10"
   ]
  },
  {
   "cell_type": "code",
   "execution_count": 9,
   "id": "85f49ce0",
   "metadata": {},
   "outputs": [
    {
     "data": {
      "text/plain": [
       "10"
      ]
     },
     "execution_count": 9,
     "metadata": {},
     "output_type": "execute_result"
    }
   ],
   "source": [
    "a"
   ]
  },
  {
   "cell_type": "code",
   "execution_count": 10,
   "id": "18f10ac0",
   "metadata": {},
   "outputs": [],
   "source": [
    "b=20"
   ]
  },
  {
   "cell_type": "code",
   "execution_count": 11,
   "id": "4515af27",
   "metadata": {},
   "outputs": [
    {
     "data": {
      "text/plain": [
       "20"
      ]
     },
     "execution_count": 11,
     "metadata": {},
     "output_type": "execute_result"
    }
   ],
   "source": [
    "b"
   ]
  },
  {
   "cell_type": "code",
   "execution_count": 13,
   "id": "6f8b05a0",
   "metadata": {},
   "outputs": [],
   "source": [
    "d=a+b"
   ]
  },
  {
   "cell_type": "code",
   "execution_count": 14,
   "id": "5bf6c12b",
   "metadata": {},
   "outputs": [
    {
     "data": {
      "text/plain": [
       "30"
      ]
     },
     "execution_count": 14,
     "metadata": {},
     "output_type": "execute_result"
    }
   ],
   "source": [
    "d"
   ]
  },
  {
   "cell_type": "code",
   "execution_count": 15,
   "id": "3c4ce8e8",
   "metadata": {},
   "outputs": [],
   "source": [
    "d=b-a"
   ]
  },
  {
   "cell_type": "code",
   "execution_count": 16,
   "id": "c0ada51d",
   "metadata": {},
   "outputs": [
    {
     "data": {
      "text/plain": [
       "10"
      ]
     },
     "execution_count": 16,
     "metadata": {},
     "output_type": "execute_result"
    }
   ],
   "source": [
    "d"
   ]
  },
  {
   "cell_type": "code",
   "execution_count": 17,
   "id": "a2fce70d",
   "metadata": {},
   "outputs": [],
   "source": [
    "d=a*b"
   ]
  },
  {
   "cell_type": "code",
   "execution_count": 18,
   "id": "7a42d624",
   "metadata": {},
   "outputs": [
    {
     "data": {
      "text/plain": [
       "200"
      ]
     },
     "execution_count": 18,
     "metadata": {},
     "output_type": "execute_result"
    }
   ],
   "source": [
    "d"
   ]
  },
  {
   "cell_type": "code",
   "execution_count": 19,
   "id": "23c371bb",
   "metadata": {},
   "outputs": [],
   "source": [
    "c=15"
   ]
  },
  {
   "cell_type": "code",
   "execution_count": 20,
   "id": "9ed20a25",
   "metadata": {},
   "outputs": [
    {
     "name": "stdout",
     "output_type": "stream",
     "text": [
      "15\n"
     ]
    }
   ],
   "source": [
    "print(c)"
   ]
  },
  {
   "cell_type": "code",
   "execution_count": 22,
   "id": "064be65c",
   "metadata": {},
   "outputs": [
    {
     "name": "stdout",
     "output_type": "stream",
     "text": [
      "c = 15\n"
     ]
    }
   ],
   "source": [
    "print('c =',c)"
   ]
  },
  {
   "cell_type": "code",
   "execution_count": 23,
   "id": "add58c11",
   "metadata": {},
   "outputs": [
    {
     "name": "stdout",
     "output_type": "stream",
     "text": [
      "d =  200\n"
     ]
    }
   ],
   "source": [
    "print('d = ',d)"
   ]
  },
  {
   "cell_type": "code",
   "execution_count": 24,
   "id": "d5b6fe1f",
   "metadata": {},
   "outputs": [
    {
     "name": "stdout",
     "output_type": "stream",
     "text": [
      "the value of c=  15\n"
     ]
    }
   ],
   "source": [
    "print('the value of c= ',c)"
   ]
  },
  {
   "cell_type": "code",
   "execution_count": 25,
   "id": "c9007bf5",
   "metadata": {},
   "outputs": [
    {
     "name": "stdout",
     "output_type": "stream",
     "text": [
      "d= -10\n"
     ]
    }
   ],
   "source": [
    "print('d=',a-b)"
   ]
  },
  {
   "cell_type": "code",
   "execution_count": 26,
   "id": "05313970",
   "metadata": {},
   "outputs": [
    {
     "name": "stdout",
     "output_type": "stream",
     "text": [
      "the value of d= 200\n"
     ]
    }
   ],
   "source": [
    "print('the value of d=', a*b)"
   ]
  },
  {
   "cell_type": "code",
   "execution_count": 28,
   "id": "55938fbb",
   "metadata": {},
   "outputs": [],
   "source": [
    "e=a-b"
   ]
  },
  {
   "cell_type": "code",
   "execution_count": 29,
   "id": "bc260270",
   "metadata": {},
   "outputs": [
    {
     "data": {
      "text/plain": [
       "-10"
      ]
     },
     "execution_count": 29,
     "metadata": {},
     "output_type": "execute_result"
    }
   ],
   "source": [
    "e"
   ]
  },
  {
   "cell_type": "code",
   "execution_count": 32,
   "id": "836c1c9f",
   "metadata": {},
   "outputs": [],
   "source": [
    "e=a*b"
   ]
  },
  {
   "cell_type": "code",
   "execution_count": 33,
   "id": "4d335753",
   "metadata": {},
   "outputs": [
    {
     "data": {
      "text/plain": [
       "200"
      ]
     },
     "execution_count": 33,
     "metadata": {},
     "output_type": "execute_result"
    }
   ],
   "source": [
    "e"
   ]
  },
  {
   "cell_type": "code",
   "execution_count": 34,
   "id": "aaf04c6e",
   "metadata": {},
   "outputs": [
    {
     "name": "stdout",
     "output_type": "stream",
     "text": [
      "the value of e= 200\n"
     ]
    }
   ],
   "source": [
    "print('the value of e=',a*b)"
   ]
  },
  {
   "cell_type": "markdown",
   "id": "cf7c280f",
   "metadata": {},
   "source": [
    "length fuction"
   ]
  },
  {
   "cell_type": "code",
   "execution_count": 9,
   "id": "047def4f",
   "metadata": {},
   "outputs": [],
   "source": [
    "name='niharika'"
   ]
  },
  {
   "cell_type": "code",
   "execution_count": 10,
   "id": "f6f548f1",
   "metadata": {},
   "outputs": [
    {
     "data": {
      "text/plain": [
       "'niharika'"
      ]
     },
     "execution_count": 10,
     "metadata": {},
     "output_type": "execute_result"
    }
   ],
   "source": [
    "name"
   ]
  },
  {
   "cell_type": "code",
   "execution_count": 11,
   "id": "df2c6a8d",
   "metadata": {},
   "outputs": [
    {
     "data": {
      "text/plain": [
       "8"
      ]
     },
     "execution_count": 11,
     "metadata": {},
     "output_type": "execute_result"
    }
   ],
   "source": [
    "len('niharika')"
   ]
  },
  {
   "cell_type": "code",
   "execution_count": 37,
   "id": "87bef9c7",
   "metadata": {},
   "outputs": [
    {
     "data": {
      "text/plain": [
       "4"
      ]
     },
     "execution_count": 37,
     "metadata": {},
     "output_type": "execute_result"
    }
   ],
   "source": [
    "len('abcd')"
   ]
  },
  {
   "cell_type": "code",
   "execution_count": 38,
   "id": "5914670e",
   "metadata": {},
   "outputs": [
    {
     "data": {
      "text/plain": [
       "3"
      ]
     },
     "execution_count": 38,
     "metadata": {},
     "output_type": "execute_result"
    }
   ],
   "source": [
    "len('xyz')"
   ]
  },
  {
   "cell_type": "code",
   "execution_count": 2,
   "id": "698516fe",
   "metadata": {},
   "outputs": [],
   "source": [
    "city='newyork'"
   ]
  },
  {
   "cell_type": "code",
   "execution_count": 3,
   "id": "28873694",
   "metadata": {},
   "outputs": [
    {
     "data": {
      "text/plain": [
       "'newyork'"
      ]
     },
     "execution_count": 3,
     "metadata": {},
     "output_type": "execute_result"
    }
   ],
   "source": [
    "city"
   ]
  },
  {
   "cell_type": "code",
   "execution_count": 5,
   "id": "60a96712",
   "metadata": {},
   "outputs": [
    {
     "data": {
      "text/plain": [
       "4"
      ]
     },
     "execution_count": 5,
     "metadata": {},
     "output_type": "execute_result"
    }
   ],
   "source": [
    "len('city')"
   ]
  },
  {
   "cell_type": "code",
   "execution_count": 6,
   "id": "9cb8fbea",
   "metadata": {},
   "outputs": [
    {
     "data": {
      "text/plain": [
       "7"
      ]
     },
     "execution_count": 6,
     "metadata": {},
     "output_type": "execute_result"
    }
   ],
   "source": [
    "len(city)"
   ]
  },
  {
   "cell_type": "code",
   "execution_count": 7,
   "id": "da94c6c6",
   "metadata": {},
   "outputs": [],
   "source": [
    "place='pune'"
   ]
  },
  {
   "cell_type": "code",
   "execution_count": 8,
   "id": "d319adc5",
   "metadata": {},
   "outputs": [
    {
     "data": {
      "text/plain": [
       "'pune'"
      ]
     },
     "execution_count": 8,
     "metadata": {},
     "output_type": "execute_result"
    }
   ],
   "source": [
    "place"
   ]
  },
  {
   "cell_type": "code",
   "execution_count": 9,
   "id": "a40a0935",
   "metadata": {},
   "outputs": [
    {
     "data": {
      "text/plain": [
       "4"
      ]
     },
     "execution_count": 9,
     "metadata": {},
     "output_type": "execute_result"
    }
   ],
   "source": [
    "len(place)"
   ]
  },
  {
   "cell_type": "markdown",
   "id": "83d4849d",
   "metadata": {},
   "source": [
    "Data Types - charactar,int,boolean,float\n",
    "\n",
    "charactar - ABCD int-12345 boolean-true and false float-2.0,3.0,1.0"
   ]
  },
  {
   "cell_type": "markdown",
   "id": "2451d29d",
   "metadata": {},
   "source": [
    "string concatenation"
   ]
  },
  {
   "cell_type": "code",
   "execution_count": 10,
   "id": "a0fe4c93",
   "metadata": {},
   "outputs": [
    {
     "data": {
      "text/plain": [
       "8"
      ]
     },
     "execution_count": 10,
     "metadata": {},
     "output_type": "execute_result"
    }
   ],
   "source": [
    "4+4"
   ]
  },
  {
   "cell_type": "code",
   "execution_count": 11,
   "id": "35802397",
   "metadata": {},
   "outputs": [
    {
     "data": {
      "text/plain": [
       "'44'"
      ]
     },
     "execution_count": 11,
     "metadata": {},
     "output_type": "execute_result"
    }
   ],
   "source": [
    "'4'+'4'"
   ]
  },
  {
   "cell_type": "code",
   "execution_count": 20,
   "id": "ded928b2",
   "metadata": {},
   "outputs": [
    {
     "data": {
      "text/plain": [
       "'python is intractive language'"
      ]
     },
     "execution_count": 20,
     "metadata": {},
     "output_type": "execute_result"
    }
   ],
   "source": [
    "'python '+'is '+'intractive '+'language'"
   ]
  },
  {
   "cell_type": "code",
   "execution_count": 22,
   "id": "2be42cbc",
   "metadata": {},
   "outputs": [
    {
     "data": {
      "text/plain": [
       "'Neha kumari'"
      ]
     },
     "execution_count": 22,
     "metadata": {},
     "output_type": "execute_result"
    }
   ],
   "source": [
    "'Neha '+'kumari'"
   ]
  },
  {
   "cell_type": "code",
   "execution_count": 18,
   "id": "15412d99",
   "metadata": {},
   "outputs": [
    {
     "data": {
      "text/plain": [
       "'happy birthday'"
      ]
     },
     "execution_count": 18,
     "metadata": {},
     "output_type": "execute_result"
    }
   ],
   "source": [
    "'happy '+'birthday'"
   ]
  },
  {
   "cell_type": "code",
   "execution_count": 23,
   "id": "492ab7ff",
   "metadata": {},
   "outputs": [
    {
     "data": {
      "text/plain": [
       "'specail days'"
      ]
     },
     "execution_count": 23,
     "metadata": {},
     "output_type": "execute_result"
    }
   ],
   "source": [
    "'specail '+'days'"
   ]
  },
  {
   "cell_type": "code",
   "execution_count": 25,
   "id": "f981c42a",
   "metadata": {},
   "outputs": [
    {
     "data": {
      "text/plain": [
       "'ram is a good boys'"
      ]
     },
     "execution_count": 25,
     "metadata": {},
     "output_type": "execute_result"
    }
   ],
   "source": [
    "'ram '+'is '+'a '+'good '+'boys'"
   ]
  },
  {
   "cell_type": "code",
   "execution_count": 26,
   "id": "133ca1e8",
   "metadata": {},
   "outputs": [
    {
     "data": {
      "text/plain": [
       "'Machine Learning'"
      ]
     },
     "execution_count": 26,
     "metadata": {},
     "output_type": "execute_result"
    }
   ],
   "source": [
    "\"Machine \"+\"Learning\""
   ]
  },
  {
   "cell_type": "code",
   "execution_count": 27,
   "id": "28b03fa6",
   "metadata": {},
   "outputs": [
    {
     "data": {
      "text/plain": [
       "'66'"
      ]
     },
     "execution_count": 27,
     "metadata": {},
     "output_type": "execute_result"
    }
   ],
   "source": [
    "'6'+'6'"
   ]
  },
  {
   "cell_type": "code",
   "execution_count": 28,
   "id": "1f767234",
   "metadata": {},
   "outputs": [
    {
     "data": {
      "text/plain": [
       "'77'"
      ]
     },
     "execution_count": 28,
     "metadata": {},
     "output_type": "execute_result"
    }
   ],
   "source": [
    "'7'+'7'"
   ]
  },
  {
   "cell_type": "code",
   "execution_count": 35,
   "id": "6c36e08b",
   "metadata": {},
   "outputs": [
    {
     "name": "stdout",
     "output_type": "stream",
     "text": [
      "300\n",
      "area of rectange= 300\n",
      "lenght of area= 20 area of breadth= 15\n",
      "lenght= 20 breadth= 15 area= 300\n"
     ]
    }
   ],
   "source": [
    "\n",
    "lenght=20\n",
    "breadth=15\n",
    "area=lenght*breadth\n",
    "\n",
    "print(area)\n",
    "\n",
    "print('area of rectange=',area)\n",
    "\n",
    "print('lenght of area=',lenght,'area of breadth=',breadth)\n",
    "\n",
    "print('lenght=',lenght,'breadth=',breadth,'area=',area)"
   ]
  },
  {
   "cell_type": "markdown",
   "id": "2e988466",
   "metadata": {},
   "source": [
    "Area of Circle"
   ]
  },
  {
   "cell_type": "code",
   "execution_count": 34,
   "id": "46564894",
   "metadata": {},
   "outputs": [
    {
     "name": "stdout",
     "output_type": "stream",
     "text": [
      "the area of circle= 200.96\n",
      "area= 200.96 pi= 3.14 radius= 8\n",
      "the area of circle with radius 8 is 200.96\n"
     ]
    }
   ],
   "source": [
    "pi=3.14 \n",
    "radius=8\n",
    "\n",
    "area=pi*(radius**2)\n",
    "\n",
    "print('the area of circle=',area)\n",
    "\n",
    "print(\"area=\",area,\"pi=\",pi,'radius=',radius)\n",
    "print('the area of circle with radius',radius,'is',area)"
   ]
  },
  {
   "cell_type": "code",
   "execution_count": null,
   "id": "9cafaf41",
   "metadata": {},
   "outputs": [],
   "source": []
  },
  {
   "cell_type": "markdown",
   "id": "42de5870",
   "metadata": {},
   "source": [
    "Typecasting"
   ]
  },
  {
   "cell_type": "code",
   "execution_count": 3,
   "id": "e5a01c17",
   "metadata": {},
   "outputs": [],
   "source": [
    "a=25"
   ]
  },
  {
   "cell_type": "code",
   "execution_count": 4,
   "id": "370591a2",
   "metadata": {},
   "outputs": [
    {
     "data": {
      "text/plain": [
       "int"
      ]
     },
     "execution_count": 4,
     "metadata": {},
     "output_type": "execute_result"
    }
   ],
   "source": [
    "type(a)"
   ]
  },
  {
   "cell_type": "code",
   "execution_count": 5,
   "id": "8c7b7da1",
   "metadata": {},
   "outputs": [],
   "source": [
    "x='neha'"
   ]
  },
  {
   "cell_type": "code",
   "execution_count": 6,
   "id": "6dfb7e1b",
   "metadata": {},
   "outputs": [
    {
     "data": {
      "text/plain": [
       "str"
      ]
     },
     "execution_count": 6,
     "metadata": {},
     "output_type": "execute_result"
    }
   ],
   "source": [
    "type(x)"
   ]
  },
  {
   "cell_type": "code",
   "execution_count": 7,
   "id": "ab494dd2",
   "metadata": {},
   "outputs": [],
   "source": [
    "y=2.0"
   ]
  },
  {
   "cell_type": "code",
   "execution_count": 8,
   "id": "b04b0fed",
   "metadata": {},
   "outputs": [
    {
     "data": {
      "text/plain": [
       "float"
      ]
     },
     "execution_count": 8,
     "metadata": {},
     "output_type": "execute_result"
    }
   ],
   "source": [
    "type(y)"
   ]
  },
  {
   "cell_type": "code",
   "execution_count": 9,
   "id": "9ea34170",
   "metadata": {},
   "outputs": [],
   "source": [
    "fees=200.25"
   ]
  },
  {
   "cell_type": "code",
   "execution_count": 10,
   "id": "fa87bc7f",
   "metadata": {},
   "outputs": [
    {
     "data": {
      "text/plain": [
       "float"
      ]
     },
     "execution_count": 10,
     "metadata": {},
     "output_type": "execute_result"
    }
   ],
   "source": [
    "type(fees)"
   ]
  },
  {
   "cell_type": "code",
   "execution_count": 17,
   "id": "5595f599",
   "metadata": {},
   "outputs": [],
   "source": [
    "j=True"
   ]
  },
  {
   "cell_type": "code",
   "execution_count": 18,
   "id": "2d738534",
   "metadata": {},
   "outputs": [
    {
     "name": "stdout",
     "output_type": "stream",
     "text": [
      "True\n"
     ]
    }
   ],
   "source": [
    "print(j)"
   ]
  },
  {
   "cell_type": "code",
   "execution_count": 20,
   "id": "d2ff0dcc",
   "metadata": {},
   "outputs": [],
   "source": [
    "i=False"
   ]
  },
  {
   "cell_type": "code",
   "execution_count": 22,
   "id": "4e022c53",
   "metadata": {},
   "outputs": [
    {
     "data": {
      "text/plain": [
       "False"
      ]
     },
     "execution_count": 22,
     "metadata": {},
     "output_type": "execute_result"
    }
   ],
   "source": [
    "i"
   ]
  },
  {
   "cell_type": "code",
   "execution_count": 30,
   "id": "888ffb3c",
   "metadata": {},
   "outputs": [],
   "source": [
    "country='london'"
   ]
  },
  {
   "cell_type": "code",
   "execution_count": 31,
   "id": "ddf89cc1",
   "metadata": {},
   "outputs": [
    {
     "data": {
      "text/plain": [
       "'london'"
      ]
     },
     "execution_count": 31,
     "metadata": {},
     "output_type": "execute_result"
    }
   ],
   "source": [
    "country"
   ]
  },
  {
   "cell_type": "code",
   "execution_count": 32,
   "id": "cc1989c6",
   "metadata": {},
   "outputs": [
    {
     "data": {
      "text/plain": [
       "str"
      ]
     },
     "execution_count": 32,
     "metadata": {},
     "output_type": "execute_result"
    }
   ],
   "source": [
    "type(country)"
   ]
  },
  {
   "cell_type": "markdown",
   "id": "c185b30a",
   "metadata": {},
   "source": [
    "Reletional"
   ]
  },
  {
   "cell_type": "code",
   "execution_count": 39,
   "id": "c31f2ce2",
   "metadata": {},
   "outputs": [
    {
     "data": {
      "text/plain": [
       "True"
      ]
     },
     "execution_count": 39,
     "metadata": {},
     "output_type": "execute_result"
    }
   ],
   "source": [
    "10==10"
   ]
  },
  {
   "cell_type": "code",
   "execution_count": 40,
   "id": "9216da78",
   "metadata": {},
   "outputs": [
    {
     "data": {
      "text/plain": [
       "False"
      ]
     },
     "execution_count": 40,
     "metadata": {},
     "output_type": "execute_result"
    }
   ],
   "source": [
    "10>20"
   ]
  },
  {
   "cell_type": "code",
   "execution_count": 41,
   "id": "7034993c",
   "metadata": {},
   "outputs": [
    {
     "data": {
      "text/plain": [
       "True"
      ]
     },
     "execution_count": 41,
     "metadata": {},
     "output_type": "execute_result"
    }
   ],
   "source": [
    "10<20"
   ]
  },
  {
   "cell_type": "code",
   "execution_count": 42,
   "id": "1d0b270f",
   "metadata": {},
   "outputs": [
    {
     "data": {
      "text/plain": [
       "True"
      ]
     },
     "execution_count": 42,
     "metadata": {},
     "output_type": "execute_result"
    }
   ],
   "source": [
    "5!=6"
   ]
  },
  {
   "cell_type": "code",
   "execution_count": 43,
   "id": "d223ab0c",
   "metadata": {},
   "outputs": [
    {
     "data": {
      "text/plain": [
       "False"
      ]
     },
     "execution_count": 43,
     "metadata": {},
     "output_type": "execute_result"
    }
   ],
   "source": [
    "15>30"
   ]
  },
  {
   "cell_type": "code",
   "execution_count": 44,
   "id": "d9528e4b",
   "metadata": {},
   "outputs": [
    {
     "data": {
      "text/plain": [
       "False"
      ]
     },
     "execution_count": 44,
     "metadata": {},
     "output_type": "execute_result"
    }
   ],
   "source": [
    "30<15"
   ]
  },
  {
   "cell_type": "code",
   "execution_count": 45,
   "id": "17bd97f7",
   "metadata": {},
   "outputs": [
    {
     "data": {
      "text/plain": [
       "True"
      ]
     },
     "execution_count": 45,
     "metadata": {},
     "output_type": "execute_result"
    }
   ],
   "source": [
    "30>15"
   ]
  },
  {
   "cell_type": "code",
   "execution_count": 46,
   "id": "65f45ae6",
   "metadata": {},
   "outputs": [
    {
     "data": {
      "text/plain": [
       "True"
      ]
     },
     "execution_count": 46,
     "metadata": {},
     "output_type": "execute_result"
    }
   ],
   "source": [
    "600==600"
   ]
  },
  {
   "cell_type": "code",
   "execution_count": 47,
   "id": "3bc4e6e8",
   "metadata": {},
   "outputs": [
    {
     "data": {
      "text/plain": [
       "False"
      ]
     },
     "execution_count": 47,
     "metadata": {},
     "output_type": "execute_result"
    }
   ],
   "source": [
    "600==500"
   ]
  },
  {
   "cell_type": "markdown",
   "id": "481b3c99",
   "metadata": {},
   "source": [
    "User-input"
   ]
  },
  {
   "cell_type": "code",
   "execution_count": 48,
   "id": "61d95d80",
   "metadata": {},
   "outputs": [
    {
     "name": "stdout",
     "output_type": "stream",
     "text": [
      "enter country namelondon\n"
     ]
    }
   ],
   "source": [
    "country=input('enter country name')"
   ]
  },
  {
   "cell_type": "code",
   "execution_count": 49,
   "id": "2e86e698",
   "metadata": {},
   "outputs": [
    {
     "data": {
      "text/plain": [
       "'london'"
      ]
     },
     "execution_count": 49,
     "metadata": {},
     "output_type": "execute_result"
    }
   ],
   "source": [
    "country"
   ]
  },
  {
   "cell_type": "code",
   "execution_count": 50,
   "id": "8f83a299",
   "metadata": {},
   "outputs": [
    {
     "name": "stdout",
     "output_type": "stream",
     "text": [
      "enter fruits namebanana\n"
     ]
    }
   ],
   "source": [
    "Fruits=input('enter fruits name')"
   ]
  },
  {
   "cell_type": "code",
   "execution_count": 52,
   "id": "53323439",
   "metadata": {},
   "outputs": [
    {
     "name": "stdout",
     "output_type": "stream",
     "text": [
      "enter food namepizza\n"
     ]
    }
   ],
   "source": [
    "foodname=input('enter food name')"
   ]
  },
  {
   "cell_type": "code",
   "execution_count": 53,
   "id": "ec28c240",
   "metadata": {},
   "outputs": [
    {
     "data": {
      "text/plain": [
       "'pizza'"
      ]
     },
     "execution_count": 53,
     "metadata": {},
     "output_type": "execute_result"
    }
   ],
   "source": [
    "foodname"
   ]
  },
  {
   "cell_type": "code",
   "execution_count": 112,
   "id": "af4b95ed",
   "metadata": {},
   "outputs": [
    {
     "name": "stdout",
     "output_type": "stream",
     "text": [
      "enter any number87\n"
     ]
    }
   ],
   "source": [
    "number1=int(input('enter any number'))"
   ]
  },
  {
   "cell_type": "code",
   "execution_count": 113,
   "id": "41920cec",
   "metadata": {},
   "outputs": [
    {
     "data": {
      "text/plain": [
       "87"
      ]
     },
     "execution_count": 113,
     "metadata": {},
     "output_type": "execute_result"
    }
   ],
   "source": [
    "number1"
   ]
  },
  {
   "cell_type": "code",
   "execution_count": 114,
   "id": "96383558",
   "metadata": {},
   "outputs": [
    {
     "data": {
      "text/plain": [
       "int"
      ]
     },
     "execution_count": 114,
     "metadata": {},
     "output_type": "execute_result"
    }
   ],
   "source": [
    "type(number1)"
   ]
  },
  {
   "cell_type": "code",
   "execution_count": 66,
   "id": "6fba41d1",
   "metadata": {},
   "outputs": [
    {
     "name": "stdout",
     "output_type": "stream",
     "text": [
      "enter any number55\n"
     ]
    }
   ],
   "source": [
    "number2=input('enter any number')"
   ]
  },
  {
   "cell_type": "code",
   "execution_count": 95,
   "id": "10079ea4",
   "metadata": {},
   "outputs": [
    {
     "data": {
      "text/plain": [
       "'55'"
      ]
     },
     "execution_count": 95,
     "metadata": {},
     "output_type": "execute_result"
    }
   ],
   "source": [
    "number2"
   ]
  },
  {
   "cell_type": "code",
   "execution_count": 96,
   "id": "cd00065f",
   "metadata": {},
   "outputs": [
    {
     "data": {
      "text/plain": [
       "str"
      ]
     },
     "execution_count": 96,
     "metadata": {},
     "output_type": "execute_result"
    }
   ],
   "source": [
    "type(number2)"
   ]
  },
  {
   "cell_type": "code",
   "execution_count": 100,
   "id": "aef11c83",
   "metadata": {},
   "outputs": [
    {
     "data": {
      "text/plain": [
       "'8755'"
      ]
     },
     "execution_count": 100,
     "metadata": {},
     "output_type": "execute_result"
    }
   ],
   "source": [
    "number1+number2"
   ]
  },
  {
   "cell_type": "markdown",
   "id": "bc39f383",
   "metadata": {},
   "source": [
    "Typecasting"
   ]
  },
  {
   "cell_type": "code",
   "execution_count": 73,
   "id": "a99404b0",
   "metadata": {},
   "outputs": [],
   "source": [
    "a=20"
   ]
  },
  {
   "cell_type": "code",
   "execution_count": 84,
   "id": "521734f9",
   "metadata": {},
   "outputs": [
    {
     "data": {
      "text/plain": [
       "int"
      ]
     },
     "execution_count": 84,
     "metadata": {},
     "output_type": "execute_result"
    }
   ],
   "source": [
    "type(a)"
   ]
  },
  {
   "cell_type": "code",
   "execution_count": 85,
   "id": "a11f9ca5",
   "metadata": {},
   "outputs": [],
   "source": [
    "pf=float(a)"
   ]
  },
  {
   "cell_type": "code",
   "execution_count": 86,
   "id": "a450546e",
   "metadata": {},
   "outputs": [
    {
     "data": {
      "text/plain": [
       "20.0"
      ]
     },
     "execution_count": 86,
     "metadata": {},
     "output_type": "execute_result"
    }
   ],
   "source": [
    "pf"
   ]
  },
  {
   "cell_type": "code",
   "execution_count": 87,
   "id": "7989f18f",
   "metadata": {},
   "outputs": [
    {
     "data": {
      "text/plain": [
       "float"
      ]
     },
     "execution_count": 87,
     "metadata": {},
     "output_type": "execute_result"
    }
   ],
   "source": [
    "type(pf)"
   ]
  },
  {
   "cell_type": "code",
   "execution_count": 88,
   "id": "af3a01f4",
   "metadata": {},
   "outputs": [],
   "source": [
    "xy=50.0"
   ]
  },
  {
   "cell_type": "code",
   "execution_count": 89,
   "id": "ecfc0db6",
   "metadata": {},
   "outputs": [
    {
     "data": {
      "text/plain": [
       "float"
      ]
     },
     "execution_count": 89,
     "metadata": {},
     "output_type": "execute_result"
    }
   ],
   "source": [
    "type(xy)"
   ]
  },
  {
   "cell_type": "code",
   "execution_count": 92,
   "id": "1cf63c48",
   "metadata": {},
   "outputs": [],
   "source": [
    "neha=int(xy)"
   ]
  },
  {
   "cell_type": "code",
   "execution_count": 93,
   "id": "80fdf754",
   "metadata": {},
   "outputs": [
    {
     "data": {
      "text/plain": [
       "50"
      ]
     },
     "execution_count": 93,
     "metadata": {},
     "output_type": "execute_result"
    }
   ],
   "source": [
    "neha"
   ]
  },
  {
   "cell_type": "code",
   "execution_count": 94,
   "id": "861182fa",
   "metadata": {},
   "outputs": [
    {
     "data": {
      "text/plain": [
       "int"
      ]
     },
     "execution_count": 94,
     "metadata": {},
     "output_type": "execute_result"
    }
   ],
   "source": [
    "type(neha)"
   ]
  },
  {
   "cell_type": "code",
   "execution_count": 102,
   "id": "43c58086",
   "metadata": {},
   "outputs": [
    {
     "name": "stdout",
     "output_type": "stream",
     "text": [
      "enter any number87\n"
     ]
    }
   ],
   "source": [
    "xyz=int(input('enter any number'))"
   ]
  },
  {
   "cell_type": "code",
   "execution_count": 103,
   "id": "034c3cef",
   "metadata": {},
   "outputs": [
    {
     "data": {
      "text/plain": [
       "87"
      ]
     },
     "execution_count": 103,
     "metadata": {},
     "output_type": "execute_result"
    }
   ],
   "source": [
    "xyz"
   ]
  },
  {
   "cell_type": "code",
   "execution_count": 104,
   "id": "34273aa7",
   "metadata": {},
   "outputs": [
    {
     "data": {
      "text/plain": [
       "int"
      ]
     },
     "execution_count": 104,
     "metadata": {},
     "output_type": "execute_result"
    }
   ],
   "source": [
    "type(xyz)"
   ]
  },
  {
   "cell_type": "markdown",
   "id": "ad912075",
   "metadata": {},
   "source": [
    "statics value is fix value"
   ]
  },
  {
   "cell_type": "code",
   "execution_count": 115,
   "id": "e275af0d",
   "metadata": {},
   "outputs": [
    {
     "name": "stdout",
     "output_type": "stream",
     "text": [
      "30\n"
     ]
    }
   ],
   "source": [
    "a=20\n",
    "b=10\n",
    "d=a+b\n",
    "\n",
    "print(d)"
   ]
  },
  {
   "cell_type": "markdown",
   "id": "b9a8c7fe",
   "metadata": {},
   "source": [
    "dynamic value will be change"
   ]
  },
  {
   "cell_type": "code",
   "execution_count": 2,
   "id": "d7ef5b03",
   "metadata": {},
   "outputs": [
    {
     "name": "stdout",
     "output_type": "stream",
     "text": [
      "enter lenght value25\n",
      "lenght 25\n",
      "enter breadth value26\n",
      "breadth 26\n",
      "area of rectangle= 650\n"
     ]
    }
   ],
   "source": [
    "l=int(input('enter lenght value'))\n",
    "\n",
    "print('lenght',l)\n",
    "\n",
    "b=int(input('enter breadth value'))\n",
    "\n",
    "print('breadth',b)\n",
    "\n",
    "areaofrectangle=l*b\n",
    "\n",
    "print('area of rectangle=',areaofrectangle)"
   ]
  },
  {
   "cell_type": "code",
   "execution_count": 4,
   "id": "80765eb8",
   "metadata": {},
   "outputs": [
    {
     "name": "stdout",
     "output_type": "stream",
     "text": [
      "enter lenght20\n",
      "lenght 20\n",
      "enter breadth45\n",
      "breadth 45\n",
      "area of rectangle 900\n"
     ]
    }
   ],
   "source": [
    "l=int(input('enter lenght'))\n",
    "\n",
    "print('lenght',l)\n",
    "\n",
    "b=int(input('enter breadth'))\n",
    "\n",
    "print('breadth',b)\n",
    "\n",
    "areaofrectangle=l*b\n",
    "\n",
    "print('area of rectangle',areaofrectangle)"
   ]
  },
  {
   "cell_type": "markdown",
   "id": "f2d40098",
   "metadata": {},
   "source": [
    "area of circle"
   ]
  },
  {
   "cell_type": "code",
   "execution_count": 20,
   "id": "361d89f5",
   "metadata": {},
   "outputs": [
    {
     "name": "stdout",
     "output_type": "stream",
     "text": [
      "enter pi value3.14\n",
      "pi = 3.14\n",
      "enter radius value8\n",
      "radius = 8.0\n",
      "circle value = 200.96 200.96\n"
     ]
    }
   ],
   "source": [
    "pi=float(input('enter pi value'))\n",
    "\n",
    "print('pi =',pi)\n",
    "\n",
    "r=float(input('enter radius value'))\n",
    "\n",
    "print('radius =',r)\n",
    "\n",
    "circle=pi*(r**2)\n",
    "\n",
    "print('circle value =',circle,round(circle,2))"
   ]
  },
  {
   "cell_type": "markdown",
   "id": "2a08a949",
   "metadata": {},
   "source": [
    "square root"
   ]
  },
  {
   "cell_type": "code",
   "execution_count": 21,
   "id": "8d9b9187",
   "metadata": {},
   "outputs": [
    {
     "name": "stdout",
     "output_type": "stream",
     "text": [
      "enter any value of square root49\n",
      "the square root of 49 is 7.0\n"
     ]
    }
   ],
   "source": [
    "s=int(input('enter any value of square root'))\n",
    "\n",
    "p=s**(1/2)\n",
    "\n",
    "print('the square root of',s,'is',p)"
   ]
  },
  {
   "cell_type": "markdown",
   "id": "dbc4618b",
   "metadata": {},
   "source": [
    "Data Structure in python"
   ]
  },
  {
   "cell_type": "markdown",
   "id": "833f5006",
   "metadata": {},
   "source": [
    "List, Tuple, dictionary,set"
   ]
  },
  {
   "cell_type": "markdown",
   "id": "9eb083aa",
   "metadata": {},
   "source": [
    "List"
   ]
  },
  {
   "cell_type": "code",
   "execution_count": 35,
   "id": "bdbdfb09",
   "metadata": {},
   "outputs": [],
   "source": [
    "list1=[1,2,3,4,5,6,7,8,9,10]"
   ]
  },
  {
   "cell_type": "code",
   "execution_count": 36,
   "id": "14974d02",
   "metadata": {},
   "outputs": [
    {
     "data": {
      "text/plain": [
       "[1, 2, 3, 4, 5, 6, 7, 8, 9, 10]"
      ]
     },
     "execution_count": 36,
     "metadata": {},
     "output_type": "execute_result"
    }
   ],
   "source": [
    "list1"
   ]
  },
  {
   "cell_type": "code",
   "execution_count": 37,
   "id": "e304eb5f",
   "metadata": {},
   "outputs": [],
   "source": [
    "list2=['a','b','c','d']"
   ]
  },
  {
   "cell_type": "code",
   "execution_count": 38,
   "id": "3ed51cac",
   "metadata": {},
   "outputs": [
    {
     "data": {
      "text/plain": [
       "['a', 'b', 'c', 'd']"
      ]
     },
     "execution_count": 38,
     "metadata": {},
     "output_type": "execute_result"
    }
   ],
   "source": [
    "list2"
   ]
  },
  {
   "cell_type": "markdown",
   "id": "ef16be7a",
   "metadata": {},
   "source": [
    "array,indexing,slicing"
   ]
  },
  {
   "cell_type": "code",
   "execution_count": 39,
   "id": "4c353e6b",
   "metadata": {},
   "outputs": [],
   "source": [
    "list3=['book','pen','pencil','paper']"
   ]
  },
  {
   "cell_type": "code",
   "execution_count": 49,
   "id": "355e8360",
   "metadata": {},
   "outputs": [
    {
     "data": {
      "text/plain": [
       "'book'"
      ]
     },
     "execution_count": 49,
     "metadata": {},
     "output_type": "execute_result"
    }
   ],
   "source": [
    "list3[0]"
   ]
  },
  {
   "cell_type": "code",
   "execution_count": null,
   "id": "1362517e",
   "metadata": {},
   "outputs": [],
   "source": []
  },
  {
   "cell_type": "code",
   "execution_count": 41,
   "id": "d7f1eb69",
   "metadata": {},
   "outputs": [
    {
     "data": {
      "text/plain": [
       "'orange'"
      ]
     },
     "execution_count": 41,
     "metadata": {},
     "output_type": "execute_result"
    }
   ],
   "source": [
    "list[1]"
   ]
  },
  {
   "cell_type": "code",
   "execution_count": 42,
   "id": "99bfe457",
   "metadata": {},
   "outputs": [
    {
     "data": {
      "text/plain": [
       "'cherry'"
      ]
     },
     "execution_count": 42,
     "metadata": {},
     "output_type": "execute_result"
    }
   ],
   "source": [
    "list[3]"
   ]
  },
  {
   "cell_type": "code",
   "execution_count": 45,
   "id": "ce81991b",
   "metadata": {},
   "outputs": [
    {
     "data": {
      "text/plain": [
       "['book', 'pen', 'pencil']"
      ]
     },
     "execution_count": 45,
     "metadata": {},
     "output_type": "execute_result"
    }
   ],
   "source": [
    "list3[0:3]"
   ]
  },
  {
   "cell_type": "code",
   "execution_count": 46,
   "id": "581fcd15",
   "metadata": {},
   "outputs": [
    {
     "data": {
      "text/plain": [
       "['book', 'pen']"
      ]
     },
     "execution_count": 46,
     "metadata": {},
     "output_type": "execute_result"
    }
   ],
   "source": [
    "list3[0:2]"
   ]
  },
  {
   "cell_type": "code",
   "execution_count": 47,
   "id": "90a36a06",
   "metadata": {},
   "outputs": [
    {
     "data": {
      "text/plain": [
       "'paper'"
      ]
     },
     "execution_count": 47,
     "metadata": {},
     "output_type": "execute_result"
    }
   ],
   "source": [
    "list3[-1]"
   ]
  },
  {
   "cell_type": "code",
   "execution_count": 50,
   "id": "21fe7546",
   "metadata": {},
   "outputs": [
    {
     "data": {
      "text/plain": [
       "'cherry'"
      ]
     },
     "execution_count": 50,
     "metadata": {},
     "output_type": "execute_result"
    }
   ],
   "source": [
    "list[-1]"
   ]
  },
  {
   "cell_type": "code",
   "execution_count": 51,
   "id": "e8a7af43",
   "metadata": {},
   "outputs": [
    {
     "data": {
      "text/plain": [
       "'grapes'"
      ]
     },
     "execution_count": 51,
     "metadata": {},
     "output_type": "execute_result"
    }
   ],
   "source": [
    "list[-2]"
   ]
  },
  {
   "cell_type": "code",
   "execution_count": 52,
   "id": "d886726d",
   "metadata": {},
   "outputs": [
    {
     "data": {
      "text/plain": [
       "['banana', 'orange', 'grapes', 'cherry']"
      ]
     },
     "execution_count": 52,
     "metadata": {},
     "output_type": "execute_result"
    }
   ],
   "source": [
    "list[-5:]"
   ]
  },
  {
   "cell_type": "code",
   "execution_count": 53,
   "id": "d9e17060",
   "metadata": {},
   "outputs": [
    {
     "data": {
      "text/plain": [
       "['book', 'pen', 'pencil', 'paper']"
      ]
     },
     "execution_count": 53,
     "metadata": {},
     "output_type": "execute_result"
    }
   ],
   "source": [
    "list3[-4:]"
   ]
  },
  {
   "cell_type": "code",
   "execution_count": 54,
   "id": "ec9096e1",
   "metadata": {},
   "outputs": [
    {
     "data": {
      "text/plain": [
       "['pencil', 'paper']"
      ]
     },
     "execution_count": 54,
     "metadata": {},
     "output_type": "execute_result"
    }
   ],
   "source": [
    "list3[-2:]"
   ]
  },
  {
   "cell_type": "code",
   "execution_count": 57,
   "id": "01c19bed",
   "metadata": {},
   "outputs": [
    {
     "data": {
      "text/plain": [
       "['book']"
      ]
     },
     "execution_count": 57,
     "metadata": {},
     "output_type": "execute_result"
    }
   ],
   "source": [
    "list3[:1]"
   ]
  },
  {
   "cell_type": "code",
   "execution_count": 58,
   "id": "8bb517d8",
   "metadata": {},
   "outputs": [
    {
     "data": {
      "text/plain": [
       "['banana', 'orange', 'grapes', 'cherry']"
      ]
     },
     "execution_count": 58,
     "metadata": {},
     "output_type": "execute_result"
    }
   ],
   "source": [
    "list[0:]"
   ]
  },
  {
   "cell_type": "code",
   "execution_count": 59,
   "id": "a4311fbb",
   "metadata": {},
   "outputs": [
    {
     "data": {
      "text/plain": [
       "['book', 'pen']"
      ]
     },
     "execution_count": 59,
     "metadata": {},
     "output_type": "execute_result"
    }
   ],
   "source": [
    "list3[:2]"
   ]
  },
  {
   "cell_type": "code",
   "execution_count": 67,
   "id": "cc4e8d75",
   "metadata": {},
   "outputs": [
    {
     "data": {
      "text/plain": [
       "[]"
      ]
     },
     "execution_count": 67,
     "metadata": {},
     "output_type": "execute_result"
    }
   ],
   "source": [
    "list3[-4:-2]"
   ]
  },
  {
   "cell_type": "code",
   "execution_count": 68,
   "id": "4aa59bed",
   "metadata": {},
   "outputs": [
    {
     "data": {
      "text/plain": [
       "['book', 'pen', 'pencil', 'paper']"
      ]
     },
     "execution_count": 68,
     "metadata": {},
     "output_type": "execute_result"
    }
   ],
   "source": [
    "list3[:]"
   ]
  },
  {
   "cell_type": "code",
   "execution_count": 77,
   "id": "1ed13161",
   "metadata": {},
   "outputs": [
    {
     "data": {
      "text/plain": [
       "['book']"
      ]
     },
     "execution_count": 77,
     "metadata": {},
     "output_type": "execute_result"
    }
   ],
   "source": [
    "list3[-4:-3]"
   ]
  },
  {
   "cell_type": "code",
   "execution_count": 78,
   "id": "a0f19f72",
   "metadata": {},
   "outputs": [],
   "source": [
    "complist=['computer','tablet','mouse','printer','keyboard']"
   ]
  },
  {
   "cell_type": "code",
   "execution_count": 79,
   "id": "1a265a86",
   "metadata": {},
   "outputs": [
    {
     "data": {
      "text/plain": [
       "['computer', 'tablet', 'mouse', 'printer', 'keyboard']"
      ]
     },
     "execution_count": 79,
     "metadata": {},
     "output_type": "execute_result"
    }
   ],
   "source": [
    "complist[:]"
   ]
  },
  {
   "cell_type": "code",
   "execution_count": 80,
   "id": "9b87f02e",
   "metadata": {},
   "outputs": [
    {
     "data": {
      "text/plain": [
       "['computer', 'tablet', 'mouse', 'printer']"
      ]
     },
     "execution_count": 80,
     "metadata": {},
     "output_type": "execute_result"
    }
   ],
   "source": [
    "complist[-5:-1]"
   ]
  },
  {
   "cell_type": "code",
   "execution_count": 82,
   "id": "9edf1ef9",
   "metadata": {},
   "outputs": [
    {
     "data": {
      "text/plain": [
       "['tablet', 'mouse', 'printer']"
      ]
     },
     "execution_count": 82,
     "metadata": {},
     "output_type": "execute_result"
    }
   ],
   "source": [
    "complist[-4:-1]"
   ]
  },
  {
   "cell_type": "code",
   "execution_count": 84,
   "id": "84828928",
   "metadata": {},
   "outputs": [
    {
     "data": {
      "text/plain": [
       "['mouse', 'printer']"
      ]
     },
     "execution_count": 84,
     "metadata": {},
     "output_type": "execute_result"
    }
   ],
   "source": [
    "complist[-3:-1]"
   ]
  },
  {
   "cell_type": "code",
   "execution_count": 85,
   "id": "222a86cd",
   "metadata": {},
   "outputs": [
    {
     "data": {
      "text/plain": [
       "['tablet', 'mouse']"
      ]
     },
     "execution_count": 85,
     "metadata": {},
     "output_type": "execute_result"
    }
   ],
   "source": [
    "complist[-4:-2]"
   ]
  },
  {
   "cell_type": "markdown",
   "id": "73425f5a",
   "metadata": {},
   "source": [
    "Set"
   ]
  },
  {
   "cell_type": "code",
   "execution_count": 15,
   "id": "df4fd533",
   "metadata": {},
   "outputs": [],
   "source": [
    "list=[1,2,3,4,5]"
   ]
  },
  {
   "cell_type": "code",
   "execution_count": 16,
   "id": "abc4d32c",
   "metadata": {},
   "outputs": [
    {
     "data": {
      "text/plain": [
       "[1, 2, 3, 4, 5]"
      ]
     },
     "execution_count": 16,
     "metadata": {},
     "output_type": "execute_result"
    }
   ],
   "source": [
    "list"
   ]
  },
  {
   "cell_type": "code",
   "execution_count": 17,
   "id": "35709e33",
   "metadata": {},
   "outputs": [],
   "source": [
    "list.append(6)"
   ]
  },
  {
   "cell_type": "code",
   "execution_count": 18,
   "id": "dd385fa8",
   "metadata": {},
   "outputs": [
    {
     "data": {
      "text/plain": [
       "[1, 2, 3, 4, 5, 6]"
      ]
     },
     "execution_count": 18,
     "metadata": {},
     "output_type": "execute_result"
    }
   ],
   "source": [
    "list"
   ]
  },
  {
   "cell_type": "code",
   "execution_count": 19,
   "id": "db5d6ba1",
   "metadata": {},
   "outputs": [],
   "source": [
    "fruit=['grapes','papaya','pear']"
   ]
  },
  {
   "cell_type": "code",
   "execution_count": 20,
   "id": "be944bb9",
   "metadata": {},
   "outputs": [
    {
     "data": {
      "text/plain": [
       "['grapes', 'papaya', 'pear']"
      ]
     },
     "execution_count": 20,
     "metadata": {},
     "output_type": "execute_result"
    }
   ],
   "source": [
    "fruit"
   ]
  },
  {
   "cell_type": "code",
   "execution_count": 21,
   "id": "744da790",
   "metadata": {},
   "outputs": [],
   "source": [
    "fruit.append('banana')"
   ]
  },
  {
   "cell_type": "code",
   "execution_count": 22,
   "id": "508c87fd",
   "metadata": {},
   "outputs": [
    {
     "data": {
      "text/plain": [
       "['grapes', 'papaya', 'pear', 'banana']"
      ]
     },
     "execution_count": 22,
     "metadata": {},
     "output_type": "execute_result"
    }
   ],
   "source": [
    "fruit"
   ]
  },
  {
   "cell_type": "code",
   "execution_count": 29,
   "id": "4c47c913",
   "metadata": {},
   "outputs": [
    {
     "data": {
      "text/plain": [
       "['papaya', 'pear']"
      ]
     },
     "execution_count": 29,
     "metadata": {},
     "output_type": "execute_result"
    }
   ],
   "source": [
    "fruit[1:3]"
   ]
  },
  {
   "cell_type": "code",
   "execution_count": 30,
   "id": "bae3801f",
   "metadata": {},
   "outputs": [
    {
     "data": {
      "text/plain": [
       "['grapes', 'papaya', 'pear', 'banana']"
      ]
     },
     "execution_count": 30,
     "metadata": {},
     "output_type": "execute_result"
    }
   ],
   "source": [
    "fruit[0:4]"
   ]
  },
  {
   "cell_type": "code",
   "execution_count": 31,
   "id": "6240a8cd",
   "metadata": {},
   "outputs": [
    {
     "data": {
      "text/plain": [
       "'pear'"
      ]
     },
     "execution_count": 31,
     "metadata": {},
     "output_type": "execute_result"
    }
   ],
   "source": [
    "fruit[2]"
   ]
  },
  {
   "cell_type": "code",
   "execution_count": 32,
   "id": "9857351d",
   "metadata": {},
   "outputs": [
    {
     "data": {
      "text/plain": [
       "['grapes', 'papaya', 'pear', 'banana']"
      ]
     },
     "execution_count": 32,
     "metadata": {},
     "output_type": "execute_result"
    }
   ],
   "source": [
    "fruit[0:5]"
   ]
  },
  {
   "cell_type": "code",
   "execution_count": 34,
   "id": "146672e7",
   "metadata": {},
   "outputs": [
    {
     "data": {
      "text/plain": [
       "['grapes', 'papaya', 'pear']"
      ]
     },
     "execution_count": 34,
     "metadata": {},
     "output_type": "execute_result"
    }
   ],
   "source": [
    "fruit[-4:-1]"
   ]
  },
  {
   "cell_type": "code",
   "execution_count": 36,
   "id": "49c2e9d2",
   "metadata": {},
   "outputs": [
    {
     "data": {
      "text/plain": [
       "['grapes', 'papaya']"
      ]
     },
     "execution_count": 36,
     "metadata": {},
     "output_type": "execute_result"
    }
   ],
   "source": [
    "fruit[-4:-2]"
   ]
  },
  {
   "cell_type": "code",
   "execution_count": 37,
   "id": "bb2224d8",
   "metadata": {},
   "outputs": [
    {
     "data": {
      "text/plain": [
       "['grapes']"
      ]
     },
     "execution_count": 37,
     "metadata": {},
     "output_type": "execute_result"
    }
   ],
   "source": [
    "fruit[-4:-3]"
   ]
  },
  {
   "cell_type": "code",
   "execution_count": 38,
   "id": "cf58f050",
   "metadata": {},
   "outputs": [
    {
     "data": {
      "text/plain": [
       "'papaya'"
      ]
     },
     "execution_count": 38,
     "metadata": {},
     "output_type": "execute_result"
    }
   ],
   "source": [
    "fruit[-3]"
   ]
  },
  {
   "cell_type": "code",
   "execution_count": 39,
   "id": "1e02e8ad",
   "metadata": {},
   "outputs": [
    {
     "data": {
      "text/plain": [
       "'banana'"
      ]
     },
     "execution_count": 39,
     "metadata": {},
     "output_type": "execute_result"
    }
   ],
   "source": [
    "fruit[-1]"
   ]
  },
  {
   "cell_type": "code",
   "execution_count": 40,
   "id": "5f211a62",
   "metadata": {},
   "outputs": [
    {
     "data": {
      "text/plain": [
       "'pear'"
      ]
     },
     "execution_count": 40,
     "metadata": {},
     "output_type": "execute_result"
    }
   ],
   "source": [
    "fruit[-2]"
   ]
  },
  {
   "cell_type": "code",
   "execution_count": 41,
   "id": "c381a389",
   "metadata": {},
   "outputs": [
    {
     "data": {
      "text/plain": [
       "'papaya'"
      ]
     },
     "execution_count": 41,
     "metadata": {},
     "output_type": "execute_result"
    }
   ],
   "source": [
    "fruit[-3]"
   ]
  },
  {
   "cell_type": "code",
   "execution_count": 42,
   "id": "60fff7ff",
   "metadata": {},
   "outputs": [
    {
     "data": {
      "text/plain": [
       "'grapes'"
      ]
     },
     "execution_count": 42,
     "metadata": {},
     "output_type": "execute_result"
    }
   ],
   "source": [
    "fruit[-4]"
   ]
  },
  {
   "cell_type": "code",
   "execution_count": 52,
   "id": "172937a3",
   "metadata": {},
   "outputs": [
    {
     "data": {
      "text/plain": [
       "['grapes', 'papaya', 'pear', 'banana']"
      ]
     },
     "execution_count": 52,
     "metadata": {},
     "output_type": "execute_result"
    }
   ],
   "source": [
    "fruit"
   ]
  },
  {
   "cell_type": "code",
   "execution_count": 53,
   "id": "aa818627",
   "metadata": {},
   "outputs": [
    {
     "data": {
      "text/plain": [
       "4"
      ]
     },
     "execution_count": 53,
     "metadata": {},
     "output_type": "execute_result"
    }
   ],
   "source": [
    "len(fruit)"
   ]
  },
  {
   "cell_type": "code",
   "execution_count": 54,
   "id": "6e78dc3d",
   "metadata": {},
   "outputs": [],
   "source": [
    "fruit.insert(0,'cherry')"
   ]
  },
  {
   "cell_type": "code",
   "execution_count": 55,
   "id": "a0ae4f34",
   "metadata": {},
   "outputs": [
    {
     "data": {
      "text/plain": [
       "['cherry', 'grapes', 'papaya', 'pear', 'banana']"
      ]
     },
     "execution_count": 55,
     "metadata": {},
     "output_type": "execute_result"
    }
   ],
   "source": [
    "fruit"
   ]
  },
  {
   "cell_type": "code",
   "execution_count": 57,
   "id": "58c2a6b3",
   "metadata": {},
   "outputs": [],
   "source": [
    "fruit.insert(1,'kiwi')"
   ]
  },
  {
   "cell_type": "code",
   "execution_count": 58,
   "id": "681f149f",
   "metadata": {},
   "outputs": [
    {
     "data": {
      "text/plain": [
       "['cherry', 'kiwi', 'grapes', 'papaya', 'pear', 'banana']"
      ]
     },
     "execution_count": 58,
     "metadata": {},
     "output_type": "execute_result"
    }
   ],
   "source": [
    "fruit"
   ]
  },
  {
   "cell_type": "code",
   "execution_count": 62,
   "id": "0bac9e20",
   "metadata": {},
   "outputs": [],
   "source": [
    "newlist=[200,300,400]"
   ]
  },
  {
   "cell_type": "code",
   "execution_count": 63,
   "id": "1e7e66e8",
   "metadata": {},
   "outputs": [],
   "source": [
    "fruit.extend(newlist)"
   ]
  },
  {
   "cell_type": "code",
   "execution_count": 64,
   "id": "a1be254c",
   "metadata": {},
   "outputs": [
    {
     "data": {
      "text/plain": [
       "['cherry', 'kiwi', 'grapes', 'papaya', 'pear', 'banana', 200, 300, 400]"
      ]
     },
     "execution_count": 64,
     "metadata": {},
     "output_type": "execute_result"
    }
   ],
   "source": [
    "fruit"
   ]
  },
  {
   "cell_type": "code",
   "execution_count": 65,
   "id": "dba22064",
   "metadata": {},
   "outputs": [],
   "source": [
    "fruit.extend(['juice','breakfast'])"
   ]
  },
  {
   "cell_type": "code",
   "execution_count": 66,
   "id": "557f797a",
   "metadata": {},
   "outputs": [
    {
     "data": {
      "text/plain": [
       "['cherry',\n",
       " 'kiwi',\n",
       " 'grapes',\n",
       " 'papaya',\n",
       " 'pear',\n",
       " 'banana',\n",
       " 200,\n",
       " 300,\n",
       " 400,\n",
       " 'juice',\n",
       " 'breakfast']"
      ]
     },
     "execution_count": 66,
     "metadata": {},
     "output_type": "execute_result"
    }
   ],
   "source": [
    "fruit"
   ]
  },
  {
   "cell_type": "code",
   "execution_count": 67,
   "id": "08de01ef",
   "metadata": {},
   "outputs": [
    {
     "data": {
      "text/plain": [
       "'breakfast'"
      ]
     },
     "execution_count": 67,
     "metadata": {},
     "output_type": "execute_result"
    }
   ],
   "source": [
    "fruit.pop()"
   ]
  },
  {
   "cell_type": "code",
   "execution_count": 68,
   "id": "7b668a2e",
   "metadata": {},
   "outputs": [
    {
     "data": {
      "text/plain": [
       "['cherry',\n",
       " 'kiwi',\n",
       " 'grapes',\n",
       " 'papaya',\n",
       " 'pear',\n",
       " 'banana',\n",
       " 200,\n",
       " 300,\n",
       " 400,\n",
       " 'juice']"
      ]
     },
     "execution_count": 68,
     "metadata": {},
     "output_type": "execute_result"
    }
   ],
   "source": [
    "fruit"
   ]
  },
  {
   "cell_type": "code",
   "execution_count": 69,
   "id": "9c8812c7",
   "metadata": {},
   "outputs": [
    {
     "data": {
      "text/plain": [
       "'cherry'"
      ]
     },
     "execution_count": 69,
     "metadata": {},
     "output_type": "execute_result"
    }
   ],
   "source": [
    "fruit.pop(0)"
   ]
  },
  {
   "cell_type": "code",
   "execution_count": 70,
   "id": "5548756c",
   "metadata": {},
   "outputs": [
    {
     "data": {
      "text/plain": [
       "['kiwi', 'grapes', 'papaya', 'pear', 'banana', 200, 300, 400, 'juice']"
      ]
     },
     "execution_count": 70,
     "metadata": {},
     "output_type": "execute_result"
    }
   ],
   "source": [
    "fruit"
   ]
  },
  {
   "cell_type": "code",
   "execution_count": 71,
   "id": "f43d749d",
   "metadata": {},
   "outputs": [],
   "source": [
    "fruit[0]='cherry'"
   ]
  },
  {
   "cell_type": "code",
   "execution_count": 72,
   "id": "7fa796a1",
   "metadata": {},
   "outputs": [
    {
     "data": {
      "text/plain": [
       "['cherry', 'grapes', 'papaya', 'pear', 'banana', 200, 300, 400, 'juice']"
      ]
     },
     "execution_count": 72,
     "metadata": {},
     "output_type": "execute_result"
    }
   ],
   "source": [
    "fruit"
   ]
  },
  {
   "cell_type": "code",
   "execution_count": 73,
   "id": "a16e97f2",
   "metadata": {},
   "outputs": [
    {
     "data": {
      "text/plain": [
       "9"
      ]
     },
     "execution_count": 73,
     "metadata": {},
     "output_type": "execute_result"
    }
   ],
   "source": [
    "len(fruit)"
   ]
  },
  {
   "cell_type": "code",
   "execution_count": 74,
   "id": "5e339c41",
   "metadata": {},
   "outputs": [],
   "source": [
    "fruit.remove('cherry')"
   ]
  },
  {
   "cell_type": "code",
   "execution_count": 75,
   "id": "ebbe905a",
   "metadata": {},
   "outputs": [
    {
     "data": {
      "text/plain": [
       "['grapes', 'papaya', 'pear', 'banana', 200, 300, 400, 'juice']"
      ]
     },
     "execution_count": 75,
     "metadata": {},
     "output_type": "execute_result"
    }
   ],
   "source": [
    "fruit"
   ]
  },
  {
   "cell_type": "code",
   "execution_count": 76,
   "id": "49dca7c8",
   "metadata": {},
   "outputs": [],
   "source": [
    "fruit.clear()"
   ]
  },
  {
   "cell_type": "code",
   "execution_count": 77,
   "id": "92c9dcb9",
   "metadata": {},
   "outputs": [
    {
     "data": {
      "text/plain": [
       "[]"
      ]
     },
     "execution_count": 77,
     "metadata": {},
     "output_type": "execute_result"
    }
   ],
   "source": [
    "fruit"
   ]
  },
  {
   "cell_type": "code",
   "execution_count": 78,
   "id": "ae8e0b6d",
   "metadata": {},
   "outputs": [
    {
     "data": {
      "text/plain": [
       "[]"
      ]
     },
     "execution_count": 78,
     "metadata": {},
     "output_type": "execute_result"
    }
   ],
   "source": [
    "fruit"
   ]
  },
  {
   "cell_type": "code",
   "execution_count": 79,
   "id": "1302884c",
   "metadata": {},
   "outputs": [],
   "source": [
    "del fruit"
   ]
  },
  {
   "cell_type": "code",
   "execution_count": 80,
   "id": "51e8cefa",
   "metadata": {},
   "outputs": [
    {
     "ename": "NameError",
     "evalue": "name 'fruit' is not defined",
     "output_type": "error",
     "traceback": [
      "\u001b[1;31m---------------------------------------------------------------------------\u001b[0m",
      "\u001b[1;31mNameError\u001b[0m                                 Traceback (most recent call last)",
      "\u001b[1;32m~\\AppData\\Local\\Temp/ipykernel_26464/3670734841.py\u001b[0m in \u001b[0;36m<module>\u001b[1;34m\u001b[0m\n\u001b[1;32m----> 1\u001b[1;33m \u001b[0mfruit\u001b[0m\u001b[1;33m\u001b[0m\u001b[1;33m\u001b[0m\u001b[0m\n\u001b[0m",
      "\u001b[1;31mNameError\u001b[0m: name 'fruit' is not defined"
     ]
    }
   ],
   "source": [
    "fruit"
   ]
  },
  {
   "cell_type": "code",
   "execution_count": 82,
   "id": "20891dcf",
   "metadata": {},
   "outputs": [],
   "source": [
    "treename=['pipal','bar','tulshi','banana']"
   ]
  },
  {
   "cell_type": "code",
   "execution_count": 83,
   "id": "4b29acb1",
   "metadata": {},
   "outputs": [
    {
     "data": {
      "text/plain": [
       "['pipal', 'bar', 'tulshi', 'banana']"
      ]
     },
     "execution_count": 83,
     "metadata": {},
     "output_type": "execute_result"
    }
   ],
   "source": [
    "treename"
   ]
  },
  {
   "cell_type": "code",
   "execution_count": 84,
   "id": "12785412",
   "metadata": {},
   "outputs": [
    {
     "data": {
      "text/plain": [
       "4"
      ]
     },
     "execution_count": 84,
     "metadata": {},
     "output_type": "execute_result"
    }
   ],
   "source": [
    "len(treename)"
   ]
  },
  {
   "cell_type": "code",
   "execution_count": 87,
   "id": "8b27f5ba",
   "metadata": {},
   "outputs": [],
   "source": [
    "treename.sort()"
   ]
  },
  {
   "cell_type": "code",
   "execution_count": 88,
   "id": "c467c1d8",
   "metadata": {},
   "outputs": [
    {
     "data": {
      "text/plain": [
       "['banana', 'bar', 'pipal', 'tulshi']"
      ]
     },
     "execution_count": 88,
     "metadata": {},
     "output_type": "execute_result"
    }
   ],
   "source": [
    "treename"
   ]
  },
  {
   "cell_type": "code",
   "execution_count": 89,
   "id": "790b2c03",
   "metadata": {},
   "outputs": [],
   "source": [
    "treename.reverse()"
   ]
  },
  {
   "cell_type": "code",
   "execution_count": 90,
   "id": "93c6cbfa",
   "metadata": {},
   "outputs": [
    {
     "data": {
      "text/plain": [
       "['tulshi', 'pipal', 'bar', 'banana']"
      ]
     },
     "execution_count": 90,
     "metadata": {},
     "output_type": "execute_result"
    }
   ],
   "source": [
    "treename"
   ]
  },
  {
   "cell_type": "code",
   "execution_count": 92,
   "id": "cb4ea4a4",
   "metadata": {},
   "outputs": [
    {
     "data": {
      "text/plain": [
       "0"
      ]
     },
     "execution_count": 92,
     "metadata": {},
     "output_type": "execute_result"
    }
   ],
   "source": [
    "treename.index('tulshi')"
   ]
  },
  {
   "cell_type": "code",
   "execution_count": 93,
   "id": "3bba19e8",
   "metadata": {},
   "outputs": [
    {
     "data": {
      "text/plain": [
       "1"
      ]
     },
     "execution_count": 93,
     "metadata": {},
     "output_type": "execute_result"
    }
   ],
   "source": [
    "treename.index('pipal')"
   ]
  },
  {
   "cell_type": "code",
   "execution_count": 94,
   "id": "899c42ec",
   "metadata": {},
   "outputs": [
    {
     "data": {
      "text/plain": [
       "2"
      ]
     },
     "execution_count": 94,
     "metadata": {},
     "output_type": "execute_result"
    }
   ],
   "source": [
    "treename.index('bar')"
   ]
  },
  {
   "cell_type": "code",
   "execution_count": 95,
   "id": "e4ca3699",
   "metadata": {},
   "outputs": [
    {
     "data": {
      "text/plain": [
       "'banana'"
      ]
     },
     "execution_count": 95,
     "metadata": {},
     "output_type": "execute_result"
    }
   ],
   "source": [
    "treename.pop()"
   ]
  },
  {
   "cell_type": "code",
   "execution_count": 96,
   "id": "7df0c410",
   "metadata": {},
   "outputs": [
    {
     "data": {
      "text/plain": [
       "['tulshi', 'pipal', 'bar']"
      ]
     },
     "execution_count": 96,
     "metadata": {},
     "output_type": "execute_result"
    }
   ],
   "source": [
    "treename"
   ]
  },
  {
   "cell_type": "code",
   "execution_count": 102,
   "id": "cf72d5bb",
   "metadata": {},
   "outputs": [],
   "source": [
    "treename.remove('tulshi')"
   ]
  },
  {
   "cell_type": "code",
   "execution_count": 103,
   "id": "b5468042",
   "metadata": {},
   "outputs": [
    {
     "data": {
      "text/plain": [
       "['pipal', 'bar']"
      ]
     },
     "execution_count": 103,
     "metadata": {},
     "output_type": "execute_result"
    }
   ],
   "source": [
    "treename"
   ]
  },
  {
   "cell_type": "code",
   "execution_count": 104,
   "id": "465c568e",
   "metadata": {},
   "outputs": [],
   "source": [
    "treename.append('babul')"
   ]
  },
  {
   "cell_type": "code",
   "execution_count": 105,
   "id": "6480d767",
   "metadata": {},
   "outputs": [
    {
     "data": {
      "text/plain": [
       "['pipal', 'bar', 'babul']"
      ]
     },
     "execution_count": 105,
     "metadata": {},
     "output_type": "execute_result"
    }
   ],
   "source": [
    "treename"
   ]
  },
  {
   "cell_type": "code",
   "execution_count": 106,
   "id": "236f9195",
   "metadata": {},
   "outputs": [],
   "source": [
    "treename.insert(1,'jamun')"
   ]
  },
  {
   "cell_type": "code",
   "execution_count": 107,
   "id": "ab1866bf",
   "metadata": {},
   "outputs": [
    {
     "data": {
      "text/plain": [
       "['pipal', 'jamun', 'bar', 'babul']"
      ]
     },
     "execution_count": 107,
     "metadata": {},
     "output_type": "execute_result"
    }
   ],
   "source": [
    "treename"
   ]
  },
  {
   "cell_type": "markdown",
   "id": "fc668342",
   "metadata": {},
   "source": [
    "Tuple"
   ]
  },
  {
   "cell_type": "code",
   "execution_count": 111,
   "id": "b634b108",
   "metadata": {},
   "outputs": [],
   "source": [
    "t1=(10,20,30,40,50)"
   ]
  },
  {
   "cell_type": "code",
   "execution_count": 112,
   "id": "fddfec00",
   "metadata": {},
   "outputs": [
    {
     "data": {
      "text/plain": [
       "(10, 20, 30, 40, 50)"
      ]
     },
     "execution_count": 112,
     "metadata": {},
     "output_type": "execute_result"
    }
   ],
   "source": [
    "t1"
   ]
  },
  {
   "cell_type": "code",
   "execution_count": 113,
   "id": "8e98f05d",
   "metadata": {},
   "outputs": [
    {
     "data": {
      "text/plain": [
       "tuple"
      ]
     },
     "execution_count": 113,
     "metadata": {},
     "output_type": "execute_result"
    }
   ],
   "source": [
    "type(t1)"
   ]
  },
  {
   "cell_type": "markdown",
   "id": "b9ac405c",
   "metadata": {},
   "source": [
    "dictionary"
   ]
  },
  {
   "cell_type": "code",
   "execution_count": 133,
   "id": "ed26287d",
   "metadata": {},
   "outputs": [],
   "source": [
    "dict1={'name':'neha','age':20,'gender':'female'}"
   ]
  },
  {
   "cell_type": "code",
   "execution_count": 134,
   "id": "ff7d2e1f",
   "metadata": {},
   "outputs": [
    {
     "data": {
      "text/plain": [
       "{'name': 'neha', 'age': 20, 'gender': 'female'}"
      ]
     },
     "execution_count": 134,
     "metadata": {},
     "output_type": "execute_result"
    }
   ],
   "source": [
    "dict1"
   ]
  },
  {
   "cell_type": "code",
   "execution_count": 135,
   "id": "c291e0ed",
   "metadata": {},
   "outputs": [
    {
     "data": {
      "text/plain": [
       "'neha'"
      ]
     },
     "execution_count": 135,
     "metadata": {},
     "output_type": "execute_result"
    }
   ],
   "source": [
    "dict1['name']"
   ]
  },
  {
   "cell_type": "code",
   "execution_count": 137,
   "id": "055ae038",
   "metadata": {},
   "outputs": [
    {
     "data": {
      "text/plain": [
       "20"
      ]
     },
     "execution_count": 137,
     "metadata": {},
     "output_type": "execute_result"
    }
   ],
   "source": [
    "dict1['age']"
   ]
  },
  {
   "cell_type": "code",
   "execution_count": 138,
   "id": "07b61251",
   "metadata": {},
   "outputs": [
    {
     "data": {
      "text/plain": [
       "'female'"
      ]
     },
     "execution_count": 138,
     "metadata": {},
     "output_type": "execute_result"
    }
   ],
   "source": [
    "dict1['gender']"
   ]
  },
  {
   "cell_type": "code",
   "execution_count": 139,
   "id": "1f282e57",
   "metadata": {},
   "outputs": [
    {
     "data": {
      "text/plain": [
       "dict_values(['neha', 20, 'female'])"
      ]
     },
     "execution_count": 139,
     "metadata": {},
     "output_type": "execute_result"
    }
   ],
   "source": [
    "dict1.values()"
   ]
  },
  {
   "cell_type": "code",
   "execution_count": 141,
   "id": "a5f0b33a",
   "metadata": {},
   "outputs": [
    {
     "data": {
      "text/plain": [
       "dict_items([('name', 'neha'), ('age', 20), ('gender', 'female')])"
      ]
     },
     "execution_count": 141,
     "metadata": {},
     "output_type": "execute_result"
    }
   ],
   "source": [
    "dict1.items()"
   ]
  },
  {
   "cell_type": "code",
   "execution_count": 142,
   "id": "dfd77942",
   "metadata": {},
   "outputs": [
    {
     "data": {
      "text/plain": [
       "dict_keys(['name', 'age', 'gender'])"
      ]
     },
     "execution_count": 142,
     "metadata": {},
     "output_type": "execute_result"
    }
   ],
   "source": [
    "dict1.keys()"
   ]
  },
  {
   "cell_type": "code",
   "execution_count": 143,
   "id": "07ebdeb7",
   "metadata": {},
   "outputs": [
    {
     "data": {
      "text/plain": [
       "3"
      ]
     },
     "execution_count": 143,
     "metadata": {},
     "output_type": "execute_result"
    }
   ],
   "source": [
    "len(dict1)"
   ]
  },
  {
   "cell_type": "code",
   "execution_count": 144,
   "id": "7ef3f2eb",
   "metadata": {},
   "outputs": [],
   "source": [
    "dict1['name']='chhaya'"
   ]
  },
  {
   "cell_type": "code",
   "execution_count": 146,
   "id": "4b55f29a",
   "metadata": {},
   "outputs": [
    {
     "data": {
      "text/plain": [
       "{'name': 'chhaya', 'age': 20, 'gender': 'female'}"
      ]
     },
     "execution_count": 146,
     "metadata": {},
     "output_type": "execute_result"
    }
   ],
   "source": [
    "dict1"
   ]
  },
  {
   "cell_type": "code",
   "execution_count": 147,
   "id": "24a3a48b",
   "metadata": {},
   "outputs": [],
   "source": [
    "dict1['age']=30"
   ]
  },
  {
   "cell_type": "code",
   "execution_count": 148,
   "id": "942b40c1",
   "metadata": {},
   "outputs": [
    {
     "data": {
      "text/plain": [
       "{'name': 'chhaya', 'age': 30, 'gender': 'female'}"
      ]
     },
     "execution_count": 148,
     "metadata": {},
     "output_type": "execute_result"
    }
   ],
   "source": [
    "dict1"
   ]
  },
  {
   "cell_type": "code",
   "execution_count": 151,
   "id": "0f6f363c",
   "metadata": {},
   "outputs": [],
   "source": [
    "dict1.update({'name':'kaya'})"
   ]
  },
  {
   "cell_type": "code",
   "execution_count": 152,
   "id": "69fc652e",
   "metadata": {},
   "outputs": [
    {
     "data": {
      "text/plain": [
       "{'name': 'kaya', 'age': 30, 'gender': 'female'}"
      ]
     },
     "execution_count": 152,
     "metadata": {},
     "output_type": "execute_result"
    }
   ],
   "source": [
    "dict1"
   ]
  },
  {
   "cell_type": "code",
   "execution_count": 154,
   "id": "5d36f3a8",
   "metadata": {},
   "outputs": [],
   "source": [
    "dict1['age']=40"
   ]
  },
  {
   "cell_type": "code",
   "execution_count": 156,
   "id": "e3b579c6",
   "metadata": {},
   "outputs": [
    {
     "data": {
      "text/plain": [
       "{'name': 'kaya', 'age': 40, 'gender': 'female'}"
      ]
     },
     "execution_count": 156,
     "metadata": {},
     "output_type": "execute_result"
    }
   ],
   "source": [
    "dict1"
   ]
  },
  {
   "cell_type": "code",
   "execution_count": 162,
   "id": "49d9c400",
   "metadata": {},
   "outputs": [
    {
     "data": {
      "text/plain": [
       "'kaya'"
      ]
     },
     "execution_count": 162,
     "metadata": {},
     "output_type": "execute_result"
    }
   ],
   "source": [
    "dict1.pop('name')"
   ]
  },
  {
   "cell_type": "code",
   "execution_count": 163,
   "id": "5099a1c0",
   "metadata": {},
   "outputs": [
    {
     "data": {
      "text/plain": [
       "{'age': 40, 'gender': 'female'}"
      ]
     },
     "execution_count": 163,
     "metadata": {},
     "output_type": "execute_result"
    }
   ],
   "source": [
    "dict1"
   ]
  },
  {
   "cell_type": "code",
   "execution_count": 164,
   "id": "15fc5dfe",
   "metadata": {},
   "outputs": [
    {
     "data": {
      "text/plain": [
       "2"
      ]
     },
     "execution_count": 164,
     "metadata": {},
     "output_type": "execute_result"
    }
   ],
   "source": [
    "len(dict1)"
   ]
  },
  {
   "cell_type": "code",
   "execution_count": 167,
   "id": "6c4c7bf3",
   "metadata": {},
   "outputs": [],
   "source": [
    "dict1['age']=45"
   ]
  },
  {
   "cell_type": "code",
   "execution_count": 168,
   "id": "b027786c",
   "metadata": {},
   "outputs": [
    {
     "data": {
      "text/plain": [
       "{'age': 45, 'gender': 'female'}"
      ]
     },
     "execution_count": 168,
     "metadata": {},
     "output_type": "execute_result"
    }
   ],
   "source": [
    "dict1"
   ]
  },
  {
   "cell_type": "code",
   "execution_count": 169,
   "id": "c154efc1",
   "metadata": {},
   "outputs": [],
   "source": [
    "dict.update({'salary':5000})"
   ]
  },
  {
   "cell_type": "code",
   "execution_count": 171,
   "id": "28e5d949",
   "metadata": {},
   "outputs": [
    {
     "data": {
      "text/plain": [
       "{'age': 45, 'gender': 'female'}"
      ]
     },
     "execution_count": 171,
     "metadata": {},
     "output_type": "execute_result"
    }
   ],
   "source": [
    "dict1"
   ]
  },
  {
   "cell_type": "markdown",
   "id": "9b931985",
   "metadata": {},
   "source": [
    "Set"
   ]
  },
  {
   "cell_type": "code",
   "execution_count": 172,
   "id": "e2642841",
   "metadata": {},
   "outputs": [],
   "source": [
    "x={100,200,200,300,400,500}"
   ]
  },
  {
   "cell_type": "code",
   "execution_count": 173,
   "id": "83d2c24f",
   "metadata": {},
   "outputs": [
    {
     "data": {
      "text/plain": [
       "{100, 200, 300, 400, 500}"
      ]
     },
     "execution_count": 173,
     "metadata": {},
     "output_type": "execute_result"
    }
   ],
   "source": [
    "x"
   ]
  },
  {
   "cell_type": "code",
   "execution_count": 175,
   "id": "cad560d2",
   "metadata": {},
   "outputs": [
    {
     "data": {
      "text/plain": [
       "set"
      ]
     },
     "execution_count": 175,
     "metadata": {},
     "output_type": "execute_result"
    }
   ],
   "source": [
    "type(x)"
   ]
  },
  {
   "cell_type": "code",
   "execution_count": 176,
   "id": "e81b97cc",
   "metadata": {},
   "outputs": [],
   "source": [
    "days={'monday','tuesday','wednesday','friday'}"
   ]
  },
  {
   "cell_type": "code",
   "execution_count": 177,
   "id": "4fa9db7d",
   "metadata": {},
   "outputs": [
    {
     "data": {
      "text/plain": [
       "{'friday', 'monday', 'tuesday', 'wednesday'}"
      ]
     },
     "execution_count": 177,
     "metadata": {},
     "output_type": "execute_result"
    }
   ],
   "source": [
    "days"
   ]
  },
  {
   "cell_type": "code",
   "execution_count": 179,
   "id": "007cc53d",
   "metadata": {},
   "outputs": [],
   "source": [
    "days.add('saturday')"
   ]
  },
  {
   "cell_type": "code",
   "execution_count": 180,
   "id": "2a178fff",
   "metadata": {},
   "outputs": [
    {
     "data": {
      "text/plain": [
       "{'friday', 'monday', 'saturday', 'tuesday', 'wednesday'}"
      ]
     },
     "execution_count": 180,
     "metadata": {},
     "output_type": "execute_result"
    }
   ],
   "source": [
    "days"
   ]
  },
  {
   "cell_type": "code",
   "execution_count": 181,
   "id": "864940d5",
   "metadata": {},
   "outputs": [],
   "source": [
    "days.remove('monday')"
   ]
  },
  {
   "cell_type": "code",
   "execution_count": 182,
   "id": "3c09420d",
   "metadata": {},
   "outputs": [
    {
     "data": {
      "text/plain": [
       "{'friday', 'saturday', 'tuesday', 'wednesday'}"
      ]
     },
     "execution_count": 182,
     "metadata": {},
     "output_type": "execute_result"
    }
   ],
   "source": [
    "days"
   ]
  },
  {
   "cell_type": "code",
   "execution_count": 183,
   "id": "cedb284b",
   "metadata": {},
   "outputs": [],
   "source": [
    "days.clear()"
   ]
  },
  {
   "cell_type": "code",
   "execution_count": 184,
   "id": "c27fa149",
   "metadata": {},
   "outputs": [
    {
     "data": {
      "text/plain": [
       "set()"
      ]
     },
     "execution_count": 184,
     "metadata": {},
     "output_type": "execute_result"
    }
   ],
   "source": [
    "days"
   ]
  },
  {
   "cell_type": "code",
   "execution_count": 185,
   "id": "dcc15258",
   "metadata": {},
   "outputs": [],
   "source": [
    "del days"
   ]
  },
  {
   "cell_type": "code",
   "execution_count": 186,
   "id": "c3b0dbe3",
   "metadata": {},
   "outputs": [
    {
     "ename": "NameError",
     "evalue": "name 'days' is not defined",
     "output_type": "error",
     "traceback": [
      "\u001b[1;31m---------------------------------------------------------------------------\u001b[0m",
      "\u001b[1;31mNameError\u001b[0m                                 Traceback (most recent call last)",
      "\u001b[1;32m~\\AppData\\Local\\Temp/ipykernel_26464/2286027535.py\u001b[0m in \u001b[0;36m<module>\u001b[1;34m\u001b[0m\n\u001b[1;32m----> 1\u001b[1;33m \u001b[0mdays\u001b[0m\u001b[1;33m\u001b[0m\u001b[1;33m\u001b[0m\u001b[0m\n\u001b[0m",
      "\u001b[1;31mNameError\u001b[0m: name 'days' is not defined"
     ]
    }
   ],
   "source": [
    "days"
   ]
  },
  {
   "cell_type": "code",
   "execution_count": 187,
   "id": "626eefce",
   "metadata": {},
   "outputs": [],
   "source": [
    "month={'jan','feb','mar','apr','jun'}"
   ]
  },
  {
   "cell_type": "code",
   "execution_count": 188,
   "id": "c2c38073",
   "metadata": {},
   "outputs": [
    {
     "data": {
      "text/plain": [
       "{'apr', 'feb', 'jan', 'jun', 'mar'}"
      ]
     },
     "execution_count": 188,
     "metadata": {},
     "output_type": "execute_result"
    }
   ],
   "source": [
    "month"
   ]
  },
  {
   "cell_type": "code",
   "execution_count": 189,
   "id": "8baa708a",
   "metadata": {},
   "outputs": [],
   "source": [
    "month.add('aug')"
   ]
  },
  {
   "cell_type": "code",
   "execution_count": 190,
   "id": "c1eb407d",
   "metadata": {},
   "outputs": [
    {
     "data": {
      "text/plain": [
       "{'apr', 'aug', 'feb', 'jan', 'jun', 'mar'}"
      ]
     },
     "execution_count": 190,
     "metadata": {},
     "output_type": "execute_result"
    }
   ],
   "source": [
    "month"
   ]
  },
  {
   "cell_type": "code",
   "execution_count": 191,
   "id": "7c6ba6c0",
   "metadata": {},
   "outputs": [],
   "source": [
    "month.remove('apr')"
   ]
  },
  {
   "cell_type": "code",
   "execution_count": 192,
   "id": "6cca8037",
   "metadata": {},
   "outputs": [
    {
     "data": {
      "text/plain": [
       "{'aug', 'feb', 'jan', 'jun', 'mar'}"
      ]
     },
     "execution_count": 192,
     "metadata": {},
     "output_type": "execute_result"
    }
   ],
   "source": [
    "month"
   ]
  },
  {
   "cell_type": "code",
   "execution_count": 193,
   "id": "b87814ee",
   "metadata": {},
   "outputs": [],
   "source": [
    "month.clear()"
   ]
  },
  {
   "cell_type": "code",
   "execution_count": 194,
   "id": "60fa380b",
   "metadata": {},
   "outputs": [
    {
     "data": {
      "text/plain": [
       "set()"
      ]
     },
     "execution_count": 194,
     "metadata": {},
     "output_type": "execute_result"
    }
   ],
   "source": [
    "month"
   ]
  },
  {
   "cell_type": "code",
   "execution_count": 195,
   "id": "c0fa8201",
   "metadata": {},
   "outputs": [],
   "source": [
    "del month"
   ]
  },
  {
   "cell_type": "code",
   "execution_count": 196,
   "id": "1fff8aa3",
   "metadata": {},
   "outputs": [
    {
     "ename": "NameError",
     "evalue": "name 'month' is not defined",
     "output_type": "error",
     "traceback": [
      "\u001b[1;31m---------------------------------------------------------------------------\u001b[0m",
      "\u001b[1;31mNameError\u001b[0m                                 Traceback (most recent call last)",
      "\u001b[1;32m~\\AppData\\Local\\Temp/ipykernel_26464/815157197.py\u001b[0m in \u001b[0;36m<module>\u001b[1;34m\u001b[0m\n\u001b[1;32m----> 1\u001b[1;33m \u001b[0mmonth\u001b[0m\u001b[1;33m\u001b[0m\u001b[1;33m\u001b[0m\u001b[0m\n\u001b[0m",
      "\u001b[1;31mNameError\u001b[0m: name 'month' is not defined"
     ]
    }
   ],
   "source": [
    "month"
   ]
  },
  {
   "cell_type": "code",
   "execution_count": 198,
   "id": "44523675",
   "metadata": {},
   "outputs": [
    {
     "data": {
      "text/plain": [
       "'python is language'"
      ]
     },
     "execution_count": 198,
     "metadata": {},
     "output_type": "execute_result"
    }
   ],
   "source": [
    "'python '+'is '+'language'"
   ]
  },
  {
   "cell_type": "code",
   "execution_count": 200,
   "id": "fd585427",
   "metadata": {},
   "outputs": [
    {
     "data": {
      "text/plain": [
       "'nail paint'"
      ]
     },
     "execution_count": 200,
     "metadata": {},
     "output_type": "execute_result"
    }
   ],
   "source": [
    "'nail '+'paint'"
   ]
  },
  {
   "cell_type": "code",
   "execution_count": 201,
   "id": "9ab25ac0",
   "metadata": {},
   "outputs": [
    {
     "ename": "NameError",
     "evalue": "name 'month' is not defined",
     "output_type": "error",
     "traceback": [
      "\u001b[1;31m---------------------------------------------------------------------------\u001b[0m",
      "\u001b[1;31mNameError\u001b[0m                                 Traceback (most recent call last)",
      "\u001b[1;32m~\\AppData\\Local\\Temp/ipykernel_26464/4194279724.py\u001b[0m in \u001b[0;36m<module>\u001b[1;34m\u001b[0m\n\u001b[1;32m----> 1\u001b[1;33m \u001b[0mmonth\u001b[0m\u001b[1;33m[\u001b[0m\u001b[1;36m1\u001b[0m\u001b[1;33m]\u001b[0m\u001b[1;33m\u001b[0m\u001b[1;33m\u001b[0m\u001b[0m\n\u001b[0m",
      "\u001b[1;31mNameError\u001b[0m: name 'month' is not defined"
     ]
    }
   ],
   "source": [
    "month[1]"
   ]
  },
  {
   "cell_type": "markdown",
   "id": "5adfd35c",
   "metadata": {},
   "source": [
    "Loops-while,for"
   ]
  },
  {
   "cell_type": "markdown",
   "id": "851a68dc",
   "metadata": {},
   "source": [
    "i=0=it is #initialization\n",
    "           #condition(i<3)\n",
    "           #encrement   i=i+1\n",
    "           \n",
    "\n"
   ]
  },
  {
   "cell_type": "code",
   "execution_count": 203,
   "id": "2384b307",
   "metadata": {},
   "outputs": [
    {
     "name": "stdout",
     "output_type": "stream",
     "text": [
      "0\n",
      "1\n",
      "2\n"
     ]
    }
   ],
   "source": [
    "i=0\n",
    "while(i<3):\n",
    "   #indeatation print(i)\n",
    "    \n",
    "    i=i+1"
   ]
  },
  {
   "cell_type": "code",
   "execution_count": 213,
   "id": "cd55f53a",
   "metadata": {},
   "outputs": [
    {
     "name": "stdout",
     "output_type": "stream",
     "text": [
      "0 1 2 3 4 "
     ]
    }
   ],
   "source": [
    "k=0\n",
    "while(k<5):\n",
    "    print(k,end=\" \")\n",
    "    k=k+1"
   ]
  },
  {
   "cell_type": "code",
   "execution_count": 217,
   "id": "9320c54c",
   "metadata": {},
   "outputs": [
    {
     "name": "stdout",
     "output_type": "stream",
     "text": [
      "p= 0 p= 1 p= 2 p= 3 p= 4 p= 5 p= 6 p= 7 "
     ]
    }
   ],
   "source": [
    "p=0\n",
    "while(p<8):\n",
    "    print('p=',p,end=\" \")\n",
    "    p=p+1"
   ]
  },
  {
   "cell_type": "code",
   "execution_count": 218,
   "id": "2436e6a8",
   "metadata": {},
   "outputs": [
    {
     "name": "stdout",
     "output_type": "stream",
     "text": [
      "the value of y= 1 the value of y= 2 the value of y= 3 the value of y= 4 the value of y= 5 the value of y= 6 the value of y= 7 the value of y= 8 "
     ]
    }
   ],
   "source": [
    "y=1\n",
    "while(y<9):\n",
    "    print('the value of y=',y,end=\" \")\n",
    "    y=y+1"
   ]
  },
  {
   "cell_type": "code",
   "execution_count": 219,
   "id": "96b78f76",
   "metadata": {},
   "outputs": [
    {
     "name": "stdout",
     "output_type": "stream",
     "text": [
      "q= 2 q= 3 q= 4 q= 5 q= 6 q= 7 q= 8 "
     ]
    }
   ],
   "source": [
    "q=2\n",
    "\n",
    "while(q<9):\n",
    "    print('q=',q,end=\" \")\n",
    "    q=q+1"
   ]
  },
  {
   "cell_type": "code",
   "execution_count": null,
   "id": "1128bb99",
   "metadata": {},
   "outputs": [],
   "source": []
  },
  {
   "cell_type": "code",
   "execution_count": null,
   "id": "099647bb",
   "metadata": {},
   "outputs": [],
   "source": []
  },
  {
   "cell_type": "code",
   "execution_count": null,
   "id": "34fa122b",
   "metadata": {},
   "outputs": [],
   "source": []
  },
  {
   "cell_type": "code",
   "execution_count": null,
   "id": "67b10bcb",
   "metadata": {},
   "outputs": [],
   "source": []
  },
  {
   "cell_type": "code",
   "execution_count": null,
   "id": "7ae3385a",
   "metadata": {},
   "outputs": [],
   "source": []
  },
  {
   "cell_type": "code",
   "execution_count": null,
   "id": "cfcd4806",
   "metadata": {},
   "outputs": [],
   "source": []
  },
  {
   "cell_type": "code",
   "execution_count": null,
   "id": "8cfc6271",
   "metadata": {},
   "outputs": [],
   "source": []
  },
  {
   "cell_type": "code",
   "execution_count": null,
   "id": "c4a50785",
   "metadata": {},
   "outputs": [],
   "source": []
  },
  {
   "cell_type": "code",
   "execution_count": null,
   "id": "8931a3d9",
   "metadata": {},
   "outputs": [],
   "source": []
  },
  {
   "cell_type": "code",
   "execution_count": null,
   "id": "214db094",
   "metadata": {},
   "outputs": [],
   "source": []
  }
 ],
 "metadata": {
  "kernelspec": {
   "display_name": "Python 3 (ipykernel)",
   "language": "python",
   "name": "python3"
  },
  "language_info": {
   "codemirror_mode": {
    "name": "ipython",
    "version": 3
   },
   "file_extension": ".py",
   "mimetype": "text/x-python",
   "name": "python",
   "nbconvert_exporter": "python",
   "pygments_lexer": "ipython3",
   "version": "3.9.7"
  }
 },
 "nbformat": 4,
 "nbformat_minor": 5
}
